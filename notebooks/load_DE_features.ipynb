{
 "cells": [
  {
   "cell_type": "markdown",
   "id": "synthetic-crown",
   "metadata": {},
   "source": [
    "## In this notebook, we will show how to read DE features with python\n",
    "\n",
    "- Author: Wei Liu\n",
    "- Affiliation: [BCMI lab, Shanghai Jiao Tong University, Shanghai, China](http://bcmi.sjtu.edu.cn)\n",
    "- Date: May, 11, 2021"
   ]
  },
  {
   "cell_type": "code",
   "execution_count": 1,
   "id": "lightweight-employment",
   "metadata": {},
   "outputs": [
    {
     "name": "stdout",
     "output_type": "stream",
     "text": [
      "1.18.4\n",
      "4.0\n"
     ]
    }
   ],
   "source": [
    "import numpy as np\n",
    "import pickle\n",
    "\n",
    "# check the version of these modules\n",
    "print(np.__version__)\n",
    "print(pickle.format_version)"
   ]
  },
  {
   "cell_type": "code",
   "execution_count": 2,
   "id": "radio-tuner",
   "metadata": {},
   "outputs": [
    {
     "name": "stdout",
     "output_type": "stream",
     "text": [
      "['data', 'label']\n"
     ]
    }
   ],
   "source": [
    "# load DE features named '1_123.npz'\n",
    "\n",
    "data_npz = np.load('1_123.npz')\n",
    "print(data_npz.files)"
   ]
  },
  {
   "cell_type": "code",
   "execution_count": 3,
   "id": "quiet-interstate",
   "metadata": {},
   "outputs": [
    {
     "name": "stdout",
     "output_type": "stream",
     "text": [
      "dict_keys([0, 1, 2, 3, 4, 5, 6, 7, 8, 9, 10, 11, 12, 13, 14, 15, 16, 17, 18, 19, 20, 21, 22, 23, 24, 25, 26, 27, 28, 29, 30, 31, 32, 33, 34, 35, 36, 37, 38, 39, 40, 41, 42, 43, 44])\n",
      "dict_keys([0, 1, 2, 3, 4, 5, 6, 7, 8, 9, 10, 11, 12, 13, 14, 15, 16, 17, 18, 19, 20, 21, 22, 23, 24, 25, 26, 27, 28, 29, 30, 31, 32, 33, 34, 35, 36, 37, 38, 39, 40, 41, 42, 43, 44])\n"
     ]
    }
   ],
   "source": [
    "# get data and label\n",
    "# ** both 'data' and 'label' are pickled dict **\n",
    "\n",
    "data = pickle.loads(data_npz['data'])\n",
    "label = pickle.loads(data_npz['label'])\n",
    "\n",
    "print(data.keys())\n",
    "print(label.keys())"
   ]
  },
  {
   "cell_type": "code",
   "execution_count": 6,
   "id": "enormous-reward",
   "metadata": {},
   "outputs": [
    {
     "name": "stdout",
     "output_type": "stream",
     "text": [
      "Session 1 -- Trial 1 -- EmotionLabel : Happy\n",
      "Session 1 -- Trial 2 -- EmotionLabel : Fear\n",
      "Session 1 -- Trial 3 -- EmotionLabel : Neutral\n",
      "Session 1 -- Trial 4 -- EmotionLabel : Sad\n",
      "Session 1 -- Trial 5 -- EmotionLabel : Disgust\n",
      "Session 1 -- Trial 6 -- EmotionLabel : Happy\n",
      "Session 1 -- Trial 7 -- EmotionLabel : Fear\n",
      "Session 1 -- Trial 8 -- EmotionLabel : Neutral\n",
      "Session 1 -- Trial 9 -- EmotionLabel : Sad\n",
      "Session 1 -- Trial 10 -- EmotionLabel : Disgust\n",
      "Session 1 -- Trial 11 -- EmotionLabel : Happy\n",
      "Session 1 -- Trial 12 -- EmotionLabel : Fear\n",
      "Session 1 -- Trial 13 -- EmotionLabel : Neutral\n",
      "Session 1 -- Trial 14 -- EmotionLabel : Sad\n",
      "Session 1 -- Trial 15 -- EmotionLabel : Disgust\n",
      "Session 2 -- Trial 1 -- EmotionLabel : Sad\n",
      "Session 2 -- Trial 2 -- EmotionLabel : Fear\n",
      "Session 2 -- Trial 3 -- EmotionLabel : Neutral\n",
      "Session 2 -- Trial 4 -- EmotionLabel : Disgust\n",
      "Session 2 -- Trial 5 -- EmotionLabel : Happy\n",
      "Session 2 -- Trial 6 -- EmotionLabel : Happy\n",
      "Session 2 -- Trial 7 -- EmotionLabel : Disgust\n",
      "Session 2 -- Trial 8 -- EmotionLabel : Neutral\n",
      "Session 2 -- Trial 9 -- EmotionLabel : Sad\n",
      "Session 2 -- Trial 10 -- EmotionLabel : Fear\n",
      "Session 2 -- Trial 11 -- EmotionLabel : Neutral\n",
      "Session 2 -- Trial 12 -- EmotionLabel : Happy\n",
      "Session 2 -- Trial 13 -- EmotionLabel : Fear\n",
      "Session 2 -- Trial 14 -- EmotionLabel : Sad\n",
      "Session 2 -- Trial 15 -- EmotionLabel : Disgust\n",
      "Session 3 -- Trial 1 -- EmotionLabel : Sad\n",
      "Session 3 -- Trial 2 -- EmotionLabel : Fear\n",
      "Session 3 -- Trial 3 -- EmotionLabel : Neutral\n",
      "Session 3 -- Trial 4 -- EmotionLabel : Disgust\n",
      "Session 3 -- Trial 5 -- EmotionLabel : Happy\n",
      "Session 3 -- Trial 6 -- EmotionLabel : Happy\n",
      "Session 3 -- Trial 7 -- EmotionLabel : Disgust\n",
      "Session 3 -- Trial 8 -- EmotionLabel : Neutral\n",
      "Session 3 -- Trial 9 -- EmotionLabel : Sad\n",
      "Session 3 -- Trial 10 -- EmotionLabel : Fear\n",
      "Session 3 -- Trial 11 -- EmotionLabel : Neutral\n",
      "Session 3 -- Trial 12 -- EmotionLabel : Happy\n",
      "Session 3 -- Trial 13 -- EmotionLabel : Fear\n",
      "Session 3 -- Trial 14 -- EmotionLabel : Sad\n",
      "Session 3 -- Trial 15 -- EmotionLabel : Disgust\n"
     ]
    }
   ],
   "source": [
    "# As we can see, there are 45 keys in both 'data' and 'label'.\n",
    "# Each participant took part in our experiments for 3 sessions, and he/she watched 15 movie clips (i.e. 15 trials) during each session.\n",
    "# Therefore, we could extract 3 * 15 = 45 DE feature matrices.\n",
    "\n",
    "# The key indexes [0, 1, 2, 3, 4, 5, 6, 7, 8, 9, 10, 11, 12, 13, 14] belong to Session 1.\n",
    "# The key indexes [15, 16, 17, 18, 19, 20, 21, 22, 23, 24, 25, 26, 27, 28, 29] belong to Session 2.\n",
    "# The key indexes [30, 31, 32, 33, 34, 35, 36, 37, 38, 39, 40, 41, 42, 43, 44] belong to Session 3.\n",
    "\n",
    "# We will print the emotion labels for each trial.\n",
    "label_dict = {0:'Disgust', 1:'Fear', 2:'Sad', 3:'Neutral', 4:'Happy'}\n",
    "for i in range(45):\n",
    "    print('Session {} -- Trial {} -- EmotionLabel : {}'.format(i//15+1, i%15+1, label_dict[label[i][0]]))"
   ]
  },
  {
   "cell_type": "markdown",
   "id": "bearing-april",
   "metadata": {},
   "source": [
    "The above emotion labels should be the same as labels in file \"emotion_label_and_stimuli_order.xlsx\""
   ]
  },
  {
   "cell_type": "code",
   "execution_count": null,
   "id": "reflected-contents",
   "metadata": {},
   "outputs": [],
   "source": []
  }
 ],
 "metadata": {
  "kernelspec": {
   "display_name": "Python 3 (ipykernel)",
   "language": "python",
   "name": "python3"
  },
  "language_info": {
   "codemirror_mode": {
    "name": "ipython",
    "version": 3
   },
   "file_extension": ".py",
   "mimetype": "text/x-python",
   "name": "python",
   "nbconvert_exporter": "python",
   "pygments_lexer": "ipython3",
   "version": "3.10.6"
  },
  "toc": {
   "base_numbering": 1,
   "nav_menu": {},
   "number_sections": true,
   "sideBar": true,
   "skip_h1_title": false,
   "title_cell": "Table of Contents",
   "title_sidebar": "Contents",
   "toc_cell": false,
   "toc_position": {},
   "toc_section_display": true,
   "toc_window_display": false
  }
 },
 "nbformat": 4,
 "nbformat_minor": 5
}
