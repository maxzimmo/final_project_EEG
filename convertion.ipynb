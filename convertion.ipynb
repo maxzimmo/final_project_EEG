{
 "cells": [
  {
   "cell_type": "code",
   "execution_count": 9,
   "metadata": {},
   "outputs": [],
   "source": [
    "import numpy as np\n",
    "\n",
    "filename = 'data/1_123.npz'\n",
    "\n",
    "data = np.load(filename)\n",
    "\n",
    "for key, value in data.items():\n",
    "    if value.ndim == 1:\n",
    "        # Convert 1D array to 2D by adding a new axis\n",
    "        value = value[:, np.newaxis]\n",
    "    elif value.ndim == 0:\n",
    "        # Skip 0-dimensional array\n",
    "        continue\n",
    "    np.savetxt(\"somepath/\" + key + \".csv\", value, delimiter=',')\n"
   ]
  },
  {
   "cell_type": "code",
   "execution_count": 11,
   "metadata": {},
   "outputs": [],
   "source": [
    "import os\n",
    "import numpy as np\n",
    "\n",
    "\n",
    "data = np.load(filename)\n",
    "\n",
    "output_dir = os.path.dirname(filename)\n",
    "\n",
    "for key, value in data.items():\n",
    "    if value.ndim == 0:\n",
    "        # Skip 0-dimensional array\n",
    "        continue\n",
    "    elif value.ndim == 1:\n",
    "        # Convert 1D array to 2D by adding a new axis\n",
    "        value = value.reshape(-1, 1)\n",
    "    np.savetxt(os.path.join(output_dir, key + \".csv\"), value, delimiter=',')\n"
   ]
  }
 ],
 "metadata": {
  "kernelspec": {
   "display_name": "lewagon",
   "language": "python",
   "name": "python3"
  },
  "language_info": {
   "codemirror_mode": {
    "name": "ipython",
    "version": 3
   },
   "file_extension": ".py",
   "mimetype": "text/x-python",
   "name": "python",
   "nbconvert_exporter": "python",
   "pygments_lexer": "ipython3",
   "version": "3.10.6"
  },
  "orig_nbformat": 4
 },
 "nbformat": 4,
 "nbformat_minor": 2
}
